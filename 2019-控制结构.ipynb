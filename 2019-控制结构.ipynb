{
 "cells": [
  {
   "cell_type": "markdown",
   "metadata": {},
   "source": [
    "1：1.5.44 第n小的质数"
   ]
  },
  {
   "cell_type": "code",
   "execution_count": 49,
   "metadata": {},
   "outputs": [
    {
     "name": "stdin",
     "output_type": "stream",
     "text": [
      " 1314\n"
     ]
    },
    {
     "name": "stdout",
     "output_type": "stream",
     "text": [
      "10789\n"
     ]
    }
   ],
   "source": [
    "from math import sqrt\n",
    "def isprime(n):\n",
    "    for i in range(2, int(sqrt(n))+1):\n",
    "        if n % i == 0:\n",
    "            return 0\n",
    "    return 1\n",
    "\n",
    "\n",
    "n = int(input())\n",
    "prime = 2\n",
    "while n:\n",
    "    if isprime(prime):  \n",
    "        n -= 1\n",
    "    prime += 1\n",
    "    \n",
    "print(prime-1)\n"
   ]
  },
  {
   "cell_type": "markdown",
   "metadata": {},
   "source": [
    "2 1.5.41 数字统计"
   ]
  },
  {
   "cell_type": "code",
   "execution_count": 27,
   "metadata": {},
   "outputs": [
    {
     "name": "stdin",
     "output_type": "stream",
     "text": [
      " 65 65168\n"
     ]
    },
    {
     "name": "stdout",
     "output_type": "stream",
     "text": [
      "36520\n"
     ]
    }
   ],
   "source": [
    "a,b=input().split()\n",
    "num=0\n",
    "for value in range(int(a),int(b)+1):\n",
    "    x = value\n",
    "    while value:\n",
    "        if value % 10 == 2:\n",
    "            num += 1\n",
    "        value = int(value/10)\n",
    "print(num)"
   ]
  },
  {
   "cell_type": "markdown",
   "metadata": {},
   "source": [
    "3 1.4.19 简单计算器"
   ]
  },
  {
   "cell_type": "code",
   "execution_count": 34,
   "metadata": {},
   "outputs": [
    {
     "name": "stdin",
     "output_type": "stream",
     "text": [
      " 4 0 /\n"
     ]
    },
    {
     "name": "stdout",
     "output_type": "stream",
     "text": [
      "Divided by zero!\n"
     ]
    }
   ],
   "source": [
    "a,b,ch = input().split()\n",
    "a = int(a)\n",
    "b = int(b)\n",
    "if ch == '+':\n",
    "    print(a+b)\n",
    "elif ch == '-':\n",
    "    print(a-b)\n",
    "elif ch == '*':\n",
    "    print(a*b)\n",
    "elif ch == '/':\n",
    "    if b == 0:\n",
    "        print('Divided by zero!')\n",
    "    else :\n",
    "        print(int(a/b))\n",
    "else:\n",
    "    print('Invalid operator!')"
   ]
  },
  {
   "cell_type": "markdown",
   "metadata": {},
   "source": [
    "4"
   ]
  },
  {
   "cell_type": "code",
   "execution_count": 41,
   "metadata": {},
   "outputs": [
    {
     "name": "stdin",
     "output_type": "stream",
     "text": [
      " 1 1 2\n"
     ]
    },
    {
     "name": "stdout",
     "output_type": "stream",
     "text": [
      "no\n"
     ]
    }
   ],
   "source": [
    "t = list(map(int,input().split()))\n",
    "t.sort()\n",
    "if t[0]+t[1]>t[2]:\n",
    "    print(\"yes\")\n",
    "else:\n",
    "    print(\"no\")"
   ]
  },
  {
   "cell_type": "markdown",
   "metadata": {},
   "source": [
    "5 "
   ]
  },
  {
   "cell_type": "code",
   "execution_count": 46,
   "metadata": {},
   "outputs": [
    {
     "name": "stdin",
     "output_type": "stream",
     "text": [
      " Reading all good books is like talking to the most outstanding person in the past\n"
     ]
    },
    {
     "name": "stdout",
     "output_type": "stream",
     "text": [
      "past the in person outstanding most the to talking like is books good all Reading "
     ]
    }
   ],
   "source": [
    "ls = input().split()\n",
    "for i in ls[::-1]:\n",
    "    print(i,end=' ')"
   ]
  },
  {
   "cell_type": "markdown",
   "metadata": {},
   "source": [
    "6 矩阵转置"
   ]
  },
  {
   "cell_type": "code",
   "execution_count": 48,
   "metadata": {},
   "outputs": [
    {
     "name": "stdin",
     "output_type": "stream",
     "text": [
      " 3 3\n",
      " 1 2 3\n",
      " 4 5 6\n",
      " 7 8 9\n"
     ]
    },
    {
     "data": {
      "text/plain": [
       "[[1, 2, 3], [4, 5, 6], [7, 8, 9]]"
      ]
     },
     "execution_count": 48,
     "metadata": {},
     "output_type": "execute_result"
    }
   ],
   "source": [
    "import numpy as np\n",
    "\n",
    "a, b = input().split()\n",
    "a = int(a)\n",
    "matris = []\n",
    "for i in range(a):\n",
    "    matris.append(list(map(int, input().split())))\n",
    "matris = np.array(matris)\n",
    "matris = np.transpose(matris)\n",
    "for ls in matris:\n",
    "    for i in ls:\n",
    "        print(i, end=' ')\n",
    "    print()\n"
   ]
  },
  {
   "cell_type": "code",
   "execution_count": null,
   "metadata": {},
   "outputs": [],
   "source": []
  }
 ],
 "metadata": {
  "kernelspec": {
   "display_name": "Python 3",
   "language": "python",
   "name": "python3"
  },
  "language_info": {
   "codemirror_mode": {
    "name": "ipython",
    "version": 3
   },
   "file_extension": ".py",
   "mimetype": "text/x-python",
   "name": "python",
   "nbconvert_exporter": "python",
   "pygments_lexer": "ipython3",
   "version": "3.8.3"
  }
 },
 "nbformat": 4,
 "nbformat_minor": 4
}
